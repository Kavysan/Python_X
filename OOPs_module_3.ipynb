{
 "cells": [
  {
   "cell_type": "code",
   "execution_count": 15,
   "id": "274b9bf8",
   "metadata": {},
   "outputs": [],
   "source": [
    "class ROI:\n",
    "    def __init__(self):\n",
    "        self.income = 0\n",
    "        self.expense = 0\n",
    "        \n",
    "    def calculate_income(self):\n",
    "        print(\"Let us calculate the total monthly income:\\n\")\n",
    "        rental_income = int(input(\"Enter the rental income per month : \"))\n",
    "        laundry = int(input(\"Enter the income per month from laundry : \"))\n",
    "        storage = int(input(\"Enter the income per month from storage : \"))\n",
    "        self.income = rental_income + laundry + storage\n",
    "        print(f\"\\nTotal monthly income is {self.income}\\n\\n\")\n",
    "        \n",
    "    def calculate_expense(self):\n",
    "        print(\"Let us calculate the total monthly expense:\\n\\n**If you do not pay for any of the following expense enter 0**\\n\")\n",
    "        insurance = int(input(\"Enter the insurance to be paid per month : \"))\n",
    "        tax = int(input(\"Enter thr tax to be paid : \"))\n",
    "        hoa = int(input(\"Enter the Home Owners Assosication fees : \"))\n",
    "        lawn = int(input(\"Enter the Lawn/Snow fees : \"))\n",
    "        vacancy = int(input(\"Enter the Vacancy fees : \"))\n",
    "        repairs = int(input(\"Enter the Repair fees if any : \"))\n",
    "        capex = int(input(\"Enter the Capex amount if any : \"))\n",
    "        property_management = int(input(\"Enter the Property management expense per month : \" ))\n",
    "        mortgage = int(input(\"Enter the mortgage amount if any : \"))\n",
    "        print(\"Enter the utility expense for this month for the following split :\")\n",
    "        electricity = int(input(\"Electricity : \"))\n",
    "        water = int(input(\"Water : \"))\n",
    "        sewer = int(input(\"Sewer : \"))\n",
    "        garbage = int(input(\"Garbage : \"))\n",
    "        gas = int(input(\"Gas : \"))\n",
    "        self.expense = insurance+ lawn+ hoa+ tax+ vacancy+ repairs+ capex+ property_management+ mortgage+ electricity+ water+ sewer+ garbage+ gas\n",
    "        print(f\"\\nTotal monthly expense is {self.expense}\\n\\n\")\n",
    "        \n",
    "    def calculate_cash_flow(self):\n",
    "        print(\"Let us calculate the cash flow per month:\\n\\n\")\n",
    "        self.cash_flow = self.income - self.expense\n",
    "        print(f\"Cash flow for this month is : {self.cash_flow}\")    \n",
    "        \n",
    "    \n",
    "    def COC_ROI(self):\n",
    "        print(\"Finally let us calculate Cash on Cash Return on Investment:\\n\\n\")\n",
    "        down_payment = int(input(\"Enter the down payment amount : \"))\n",
    "        closing_cost = int(input(\"Enter the closing cost : \"))\n",
    "        rehab = int(input(\"Enter the rehab budget : \"))\n",
    "        misc = int(input(\"Enter the amount for other miscellaneous cost if any, if not enter 0: \"))\n",
    "        self.total_investment = down_payment + closing_cost + rehab + misc\n",
    "        self.coc_roi = ((self.cash_flow*12)/self.total_investment)*100\n",
    "        print(f\"\\nThe cash on cash ROI is {self.coc_roi}%\")\n",
    "        \n",
    "        \n",
    "        "
   ]
  },
  {
   "cell_type": "code",
   "execution_count": 16,
   "id": "f93d592e",
   "metadata": {},
   "outputs": [],
   "source": [
    "roi = ROI()"
   ]
  },
  {
   "cell_type": "code",
   "execution_count": 17,
   "id": "6df45344",
   "metadata": {},
   "outputs": [
    {
     "name": "stdout",
     "output_type": "stream",
     "text": [
      "Let us calculate the total monthly income:\n",
      "\n",
      "Enter the rental income per month : 2000\n",
      "Enter the income per month from laundry : 0\n",
      "Enter the income per month from storage : 0\n",
      "\n",
      "Total monthly income is 2000\n",
      "\n",
      "\n"
     ]
    }
   ],
   "source": [
    "roi.calculate_income()"
   ]
  },
  {
   "cell_type": "code",
   "execution_count": 19,
   "id": "7ecfbfea",
   "metadata": {},
   "outputs": [
    {
     "name": "stdout",
     "output_type": "stream",
     "text": [
      "Let us calculate the total monthly expense:\n",
      "\n",
      "**If you do not pay for any of the following expense enter 0**\n",
      "\n",
      "Enter the insurance to be paid per month : 100\n",
      "Enter thr tax to be paid : 150\n",
      "Enter the Home Owners Assosication fees : 0\n",
      "Enter the Lawn/Snow fees : 0\n",
      "Enter the Vacancy fees : 100\n",
      "Enter the Repair fees if any : 100\n",
      "Enter the Capex amount if any : 100\n",
      "Enter the Property management expense per month : 200\n",
      "Enter the mortgage amount if any : 860\n",
      "Enter the utility expense for this month for the following split :\n",
      "Electricity : 0\n",
      "Water : 0\n",
      "Sewer : 0\n",
      "Garbage : 0\n",
      "Gas : 0\n",
      "\n",
      "Total monthly expense is 1610\n",
      "\n",
      "\n"
     ]
    }
   ],
   "source": [
    "roi.calculate_expense()"
   ]
  },
  {
   "cell_type": "code",
   "execution_count": 20,
   "id": "86651e0c",
   "metadata": {},
   "outputs": [
    {
     "name": "stdout",
     "output_type": "stream",
     "text": [
      "Let us calculate the cash flow per month:\n",
      "\n",
      "\n",
      "Cash flow for this month is : 390\n"
     ]
    }
   ],
   "source": [
    "roi.calculate_cash_flow()"
   ]
  },
  {
   "cell_type": "code",
   "execution_count": 21,
   "id": "69985835",
   "metadata": {},
   "outputs": [
    {
     "name": "stdout",
     "output_type": "stream",
     "text": [
      "Finally let us calculate Cash on Cash Return on Investment:\n",
      "\n",
      "\n",
      "Enter the down payment amount : 40000\n",
      "Enter the closing cost : 3000\n",
      "Enter the rehab budget : 7000\n",
      "Enter the amount for other miscellaneous cost if any, if not enter 0: 0\n",
      "\n",
      "The cash on cash ROI is 9.36%\n"
     ]
    }
   ],
   "source": [
    "roi.COC_ROI()"
   ]
  },
  {
   "cell_type": "code",
   "execution_count": null,
   "id": "01d216ee",
   "metadata": {},
   "outputs": [],
   "source": []
  }
 ],
 "metadata": {
  "kernelspec": {
   "display_name": "Python 3 (ipykernel)",
   "language": "python",
   "name": "python3"
  },
  "language_info": {
   "codemirror_mode": {
    "name": "ipython",
    "version": 3
   },
   "file_extension": ".py",
   "mimetype": "text/x-python",
   "name": "python",
   "nbconvert_exporter": "python",
   "pygments_lexer": "ipython3",
   "version": "3.11.4"
  }
 },
 "nbformat": 4,
 "nbformat_minor": 5
}
